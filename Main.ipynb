{
 "cells": [
  {
   "cell_type": "code",
   "execution_count": 325,
   "metadata": {},
   "outputs": [
    {
     "data": {
      "text/plain": [
       "174"
      ]
     },
     "execution_count": 325,
     "metadata": {},
     "output_type": "execute_result"
    }
   ],
   "source": [
    "import numpy as np\n",
    "import pandas as pd\n",
    "import matplotlib.pyplot as plt\n",
    "import time\n",
    "\n",
    "from sklearn.model_selection import train_test_split\n",
    "from sklearn.model_selection import GridSearchCV\n",
    "from sklearn.metrics import accuracy_score\n",
    "\n",
    "pd.set_option('display.max_columns', 500)\n",
    "import gc\n",
    "import warnings\n",
    "warnings.filterwarnings(\"ignore\")\n",
    "gc.collect()"
   ]
  },
  {
   "cell_type": "code",
   "execution_count": 76,
   "metadata": {},
   "outputs": [],
   "source": [
    "df=pd.read_csv(\"US_ACcidents_Dec19.csv\")"
   ]
  },
  {
   "cell_type": "code",
   "execution_count": 77,
   "metadata": {},
   "outputs": [
    {
     "data": {
      "text/html": [
       "<div>\n",
       "<style scoped>\n",
       "    .dataframe tbody tr th:only-of-type {\n",
       "        vertical-align: middle;\n",
       "    }\n",
       "\n",
       "    .dataframe tbody tr th {\n",
       "        vertical-align: top;\n",
       "    }\n",
       "\n",
       "    .dataframe thead th {\n",
       "        text-align: right;\n",
       "    }\n",
       "</style>\n",
       "<table border=\"1\" class=\"dataframe\">\n",
       "  <thead>\n",
       "    <tr style=\"text-align: right;\">\n",
       "      <th></th>\n",
       "      <th>ID</th>\n",
       "      <th>Source</th>\n",
       "      <th>TMC</th>\n",
       "      <th>Severity</th>\n",
       "      <th>Start_Time</th>\n",
       "      <th>End_Time</th>\n",
       "      <th>Start_Lat</th>\n",
       "      <th>Start_Lng</th>\n",
       "      <th>End_Lat</th>\n",
       "      <th>End_Lng</th>\n",
       "      <th>Distance(mi)</th>\n",
       "      <th>Description</th>\n",
       "      <th>Number</th>\n",
       "      <th>Street</th>\n",
       "      <th>Side</th>\n",
       "      <th>City</th>\n",
       "      <th>County</th>\n",
       "      <th>State</th>\n",
       "      <th>Zipcode</th>\n",
       "      <th>Country</th>\n",
       "      <th>Timezone</th>\n",
       "      <th>Airport_Code</th>\n",
       "      <th>Weather_Timestamp</th>\n",
       "      <th>Temperature(F)</th>\n",
       "      <th>Wind_Chill(F)</th>\n",
       "      <th>Humidity(%)</th>\n",
       "      <th>Pressure(in)</th>\n",
       "      <th>Visibility(mi)</th>\n",
       "      <th>Wind_Direction</th>\n",
       "      <th>Wind_Speed(mph)</th>\n",
       "      <th>Precipitation(in)</th>\n",
       "      <th>Weather_Condition</th>\n",
       "      <th>Amenity</th>\n",
       "      <th>Bump</th>\n",
       "      <th>Crossing</th>\n",
       "      <th>Give_Way</th>\n",
       "      <th>Junction</th>\n",
       "      <th>No_Exit</th>\n",
       "      <th>Railway</th>\n",
       "      <th>Roundabout</th>\n",
       "      <th>Station</th>\n",
       "      <th>Stop</th>\n",
       "      <th>Traffic_Calming</th>\n",
       "      <th>Traffic_Signal</th>\n",
       "      <th>Turning_Loop</th>\n",
       "      <th>Sunrise_Sunset</th>\n",
       "      <th>Civil_Twilight</th>\n",
       "      <th>Nautical_Twilight</th>\n",
       "      <th>Astronomical_Twilight</th>\n",
       "    </tr>\n",
       "  </thead>\n",
       "  <tbody>\n",
       "    <tr>\n",
       "      <th>1856092</th>\n",
       "      <td>A-1856115</td>\n",
       "      <td>MapQuest</td>\n",
       "      <td>201.0</td>\n",
       "      <td>2</td>\n",
       "      <td>2018-02-20 07:38:32</td>\n",
       "      <td>2018-02-20 08:38:11</td>\n",
       "      <td>30.248291</td>\n",
       "      <td>-81.593697</td>\n",
       "      <td>NaN</td>\n",
       "      <td>NaN</td>\n",
       "      <td>0.0</td>\n",
       "      <td>Accident on FL-202 J Turner Butler Blvd Westbo...</td>\n",
       "      <td>NaN</td>\n",
       "      <td>J Turner Butler Blvd E</td>\n",
       "      <td>R</td>\n",
       "      <td>Jacksonville</td>\n",
       "      <td>Duval</td>\n",
       "      <td>FL</td>\n",
       "      <td>32216</td>\n",
       "      <td>US</td>\n",
       "      <td>US/Eastern</td>\n",
       "      <td>KCRG</td>\n",
       "      <td>2018-02-20 07:37:00</td>\n",
       "      <td>69.1</td>\n",
       "      <td>NaN</td>\n",
       "      <td>100.0</td>\n",
       "      <td>30.36</td>\n",
       "      <td>10.0</td>\n",
       "      <td>SE</td>\n",
       "      <td>4.6</td>\n",
       "      <td>NaN</td>\n",
       "      <td>Mostly Cloudy</td>\n",
       "      <td>False</td>\n",
       "      <td>False</td>\n",
       "      <td>False</td>\n",
       "      <td>False</td>\n",
       "      <td>False</td>\n",
       "      <td>False</td>\n",
       "      <td>False</td>\n",
       "      <td>False</td>\n",
       "      <td>False</td>\n",
       "      <td>False</td>\n",
       "      <td>False</td>\n",
       "      <td>False</td>\n",
       "      <td>False</td>\n",
       "      <td>Day</td>\n",
       "      <td>Day</td>\n",
       "      <td>Day</td>\n",
       "      <td>Day</td>\n",
       "    </tr>\n",
       "    <tr>\n",
       "      <th>1727566</th>\n",
       "      <td>A-1727589</td>\n",
       "      <td>MapQuest</td>\n",
       "      <td>246.0</td>\n",
       "      <td>2</td>\n",
       "      <td>2018-04-18 07:54:37</td>\n",
       "      <td>2018-04-18 08:24:16</td>\n",
       "      <td>29.686876</td>\n",
       "      <td>-95.378777</td>\n",
       "      <td>NaN</td>\n",
       "      <td>NaN</td>\n",
       "      <td>0.0</td>\n",
       "      <td>Three lanes blocked due to accident on TX-288 ...</td>\n",
       "      <td>NaN</td>\n",
       "      <td>Holly Hall St</td>\n",
       "      <td>R</td>\n",
       "      <td>Houston</td>\n",
       "      <td>Harris</td>\n",
       "      <td>TX</td>\n",
       "      <td>77021</td>\n",
       "      <td>US</td>\n",
       "      <td>US/Central</td>\n",
       "      <td>KMCJ</td>\n",
       "      <td>2018-04-18 07:55:00</td>\n",
       "      <td>69.8</td>\n",
       "      <td>NaN</td>\n",
       "      <td>73.0</td>\n",
       "      <td>29.96</td>\n",
       "      <td>9.0</td>\n",
       "      <td>Variable</td>\n",
       "      <td>5.8</td>\n",
       "      <td>NaN</td>\n",
       "      <td>Scattered Clouds</td>\n",
       "      <td>False</td>\n",
       "      <td>False</td>\n",
       "      <td>False</td>\n",
       "      <td>False</td>\n",
       "      <td>False</td>\n",
       "      <td>False</td>\n",
       "      <td>False</td>\n",
       "      <td>False</td>\n",
       "      <td>False</td>\n",
       "      <td>False</td>\n",
       "      <td>False</td>\n",
       "      <td>False</td>\n",
       "      <td>False</td>\n",
       "      <td>Day</td>\n",
       "      <td>Day</td>\n",
       "      <td>Day</td>\n",
       "      <td>Day</td>\n",
       "    </tr>\n",
       "  </tbody>\n",
       "</table>\n",
       "</div>"
      ],
      "text/plain": [
       "                ID    Source    TMC  Severity           Start_Time  \\\n",
       "1856092  A-1856115  MapQuest  201.0         2  2018-02-20 07:38:32   \n",
       "1727566  A-1727589  MapQuest  246.0         2  2018-04-18 07:54:37   \n",
       "\n",
       "                    End_Time  Start_Lat  Start_Lng  End_Lat  End_Lng  \\\n",
       "1856092  2018-02-20 08:38:11  30.248291 -81.593697      NaN      NaN   \n",
       "1727566  2018-04-18 08:24:16  29.686876 -95.378777      NaN      NaN   \n",
       "\n",
       "         Distance(mi)                                        Description  \\\n",
       "1856092           0.0  Accident on FL-202 J Turner Butler Blvd Westbo...   \n",
       "1727566           0.0  Three lanes blocked due to accident on TX-288 ...   \n",
       "\n",
       "         Number                  Street Side          City  County State  \\\n",
       "1856092     NaN  J Turner Butler Blvd E    R  Jacksonville   Duval    FL   \n",
       "1727566     NaN           Holly Hall St    R       Houston  Harris    TX   \n",
       "\n",
       "        Zipcode Country    Timezone Airport_Code    Weather_Timestamp  \\\n",
       "1856092   32216      US  US/Eastern         KCRG  2018-02-20 07:37:00   \n",
       "1727566   77021      US  US/Central         KMCJ  2018-04-18 07:55:00   \n",
       "\n",
       "         Temperature(F)  Wind_Chill(F)  Humidity(%)  Pressure(in)  \\\n",
       "1856092            69.1            NaN        100.0         30.36   \n",
       "1727566            69.8            NaN         73.0         29.96   \n",
       "\n",
       "         Visibility(mi) Wind_Direction  Wind_Speed(mph)  Precipitation(in)  \\\n",
       "1856092            10.0             SE              4.6                NaN   \n",
       "1727566             9.0       Variable              5.8                NaN   \n",
       "\n",
       "        Weather_Condition  Amenity   Bump  Crossing  Give_Way  Junction  \\\n",
       "1856092     Mostly Cloudy    False  False     False     False     False   \n",
       "1727566  Scattered Clouds    False  False     False     False     False   \n",
       "\n",
       "         No_Exit  Railway  Roundabout  Station   Stop  Traffic_Calming  \\\n",
       "1856092    False    False       False    False  False            False   \n",
       "1727566    False    False       False    False  False            False   \n",
       "\n",
       "         Traffic_Signal  Turning_Loop Sunrise_Sunset Civil_Twilight  \\\n",
       "1856092           False         False            Day            Day   \n",
       "1727566           False         False            Day            Day   \n",
       "\n",
       "        Nautical_Twilight Astronomical_Twilight  \n",
       "1856092               Day                   Day  \n",
       "1727566               Day                   Day  "
      ]
     },
     "execution_count": 77,
     "metadata": {},
     "output_type": "execute_result"
    }
   ],
   "source": [
    "df.sample(2)"
   ]
  },
  {
   "cell_type": "markdown",
   "metadata": {},
   "source": [
    "# I) Preprocessing"
   ]
  },
  {
   "cell_type": "markdown",
   "metadata": {},
   "source": [
    "#### 1) Handling missing value"
   ]
  },
  {
   "cell_type": "code",
   "execution_count": 79,
   "metadata": {
    "scrolled": true
   },
   "outputs": [
    {
     "data": {
      "text/plain": [
       "ID                             0\n",
       "Source                         0\n",
       "TMC                       728071\n",
       "Severity                       0\n",
       "Start_Time                     0\n",
       "End_Time                       0\n",
       "Start_Lat                      0\n",
       "Start_Lng                      0\n",
       "End_Lat                  2246264\n",
       "End_Lng                  2246264\n",
       "Distance(mi)                   0\n",
       "Description                    1\n",
       "Number                   1917605\n",
       "Street                         0\n",
       "Side                           0\n",
       "City                          83\n",
       "County                         0\n",
       "State                          0\n",
       "Zipcode                      880\n",
       "Country                        0\n",
       "Timezone                    3163\n",
       "Airport_Code                5691\n",
       "Weather_Timestamp          36705\n",
       "Temperature(F)             56063\n",
       "Wind_Chill(F)            1852623\n",
       "Humidity(%)                59173\n",
       "Pressure(in)               48142\n",
       "Visibility(mi)             65691\n",
       "Wind_Direction             45101\n",
       "Wind_Speed(mph)           440840\n",
       "Precipitation(in)        1998358\n",
       "Weather_Condition          65932\n",
       "Amenity                        0\n",
       "Bump                           0\n",
       "Crossing                       0\n",
       "Give_Way                       0\n",
       "Junction                       0\n",
       "No_Exit                        0\n",
       "Railway                        0\n",
       "Roundabout                     0\n",
       "Station                        0\n",
       "Stop                           0\n",
       "Traffic_Calming                0\n",
       "Traffic_Signal                 0\n",
       "Turning_Loop                   0\n",
       "Sunrise_Sunset                93\n",
       "Civil_Twilight                93\n",
       "Nautical_Twilight             93\n",
       "Astronomical_Twilight         93\n",
       "dtype: int64"
      ]
     },
     "execution_count": 79,
     "metadata": {},
     "output_type": "execute_result"
    }
   ],
   "source": [
    "df.isnull().sum()"
   ]
  },
  {
   "cell_type": "code",
   "execution_count": 86,
   "metadata": {},
   "outputs": [
    {
     "data": {
      "text/plain": [
       "201.0    1890037\n",
       "241.0     219071\n",
       "245.0      35919\n",
       "229.0      22653\n",
       "203.0      16792\n",
       "222.0      12552\n",
       "244.0      11163\n",
       "406.0       9467\n",
       "246.0       6350\n",
       "202.0       6047\n",
       "343.0       5827\n",
       "247.0       4616\n",
       "236.0       2116\n",
       "206.0       1157\n",
       "248.0       1012\n",
       "339.0        774\n",
       "341.0        504\n",
       "336.0         81\n",
       "200.0         66\n",
       "239.0         54\n",
       "351.0          6\n",
       "Name: TMC, dtype: int64"
      ]
     },
     "execution_count": 86,
     "metadata": {},
     "output_type": "execute_result"
    }
   ],
   "source": [
    "df.TMC.value_counts()"
   ]
  },
  {
   "cell_type": "code",
   "execution_count": 160,
   "metadata": {},
   "outputs": [],
   "source": [
    "df_clean=df.copy()\n",
    "\n",
    "#Use 'Others' for null city, zipcode, airport code\n",
    "df_clean['City']=df['City'].fillna('Others')\n",
    "df_clean['Zipcode']=df['Zipcode'].fillna('Others')\n",
    "df_clean['Airport_Code']=df['Airport_Code'].fillna('Others')\n",
    "\n",
    "#Use central time for null Timezone\n",
    "df_clean['Timezone']=df['Timezone'].fillna('US/Central')\n",
    "df_clean['Weather_Timestamp']=df_clean['Weather_Timestamp'].fillna(df['Start_Time'])\n",
    "\n",
    "#Drop Pressure, Wind_Direction\n",
    "df_clean=df.drop(['Pressure(in)','Wind_Direction','Number','End_Lat', 'End_Lng', 'Precipitation(in)'], axis=1)\n",
    "\n",
    "\n",
    "#Use average on mean for Temperature, Wind_Chill, Humidity, Visibility(mi), WindSpeed\n",
    "df_clean['Temperature(F)']=df['Temperature(F)'].fillna(df['Temperature(F)'].mean())\n",
    "df_clean['Wind_Chill(F)']=df['Wind_Chill(F)'].fillna(df['Wind_Chill(F)'].mean())\n",
    "df_clean['Humidity(%)']=df['Humidity(%)'].fillna(df['Humidity(%)'].mean())\n",
    "df_clean['Visibility(mi)']=df['Visibility(mi)'].fillna(df['Visibility(mi)'].mean())\n",
    "df_clean['Wind_Speed(mph)']=df['Wind_Speed(mph)'].fillna(df['Wind_Speed(mph)'].mean())\n",
    "\n",
    "# Visibility, Wind_Speed, Precipitation, Weather_Condition\n",
    "df_clean['Weather_Condition']=df['Weather_Condition'].fillna(df['Weather_Condition'].mode())\n"
   ]
  },
  {
   "cell_type": "code",
   "execution_count": 161,
   "metadata": {},
   "outputs": [],
   "source": [
    "#Fill 0 for TMC and mode for weather condition\n",
    "df_clean['TMC']=df_clean['TMC'].fillna(0)\n",
    "df_clean['Weather_Condition']=df_clean['Weather_Condition'].fillna(df_clean['Weather_Condition'].mode())"
   ]
  },
  {
   "cell_type": "code",
   "execution_count": 162,
   "metadata": {},
   "outputs": [
    {
     "data": {
      "text/plain": [
       "ID                           0\n",
       "Source                       0\n",
       "TMC                          0\n",
       "Severity                     0\n",
       "Start_Time                   0\n",
       "End_Time                     0\n",
       "Start_Lat                    0\n",
       "Start_Lng                    0\n",
       "Distance(mi)                 0\n",
       "Description                  1\n",
       "Street                       0\n",
       "Side                         0\n",
       "City                        83\n",
       "County                       0\n",
       "State                        0\n",
       "Zipcode                    880\n",
       "Country                      0\n",
       "Timezone                  3163\n",
       "Airport_Code              5691\n",
       "Weather_Timestamp        36705\n",
       "Temperature(F)               0\n",
       "Wind_Chill(F)                0\n",
       "Humidity(%)                  0\n",
       "Visibility(mi)               0\n",
       "Wind_Speed(mph)              0\n",
       "Weather_Condition        65932\n",
       "Amenity                      0\n",
       "Bump                         0\n",
       "Crossing                     0\n",
       "Give_Way                     0\n",
       "Junction                     0\n",
       "No_Exit                      0\n",
       "Railway                      0\n",
       "Roundabout                   0\n",
       "Station                      0\n",
       "Stop                         0\n",
       "Traffic_Calming              0\n",
       "Traffic_Signal               0\n",
       "Turning_Loop                 0\n",
       "Sunrise_Sunset              93\n",
       "Civil_Twilight              93\n",
       "Nautical_Twilight           93\n",
       "Astronomical_Twilight       93\n",
       "dtype: int64"
      ]
     },
     "execution_count": 162,
     "metadata": {},
     "output_type": "execute_result"
    }
   ],
   "source": [
    "df_clean.isnull().sum()"
   ]
  },
  {
   "cell_type": "code",
   "execution_count": 163,
   "metadata": {},
   "outputs": [],
   "source": [
    "#Drop nan\n",
    "df_clean=df_clean.dropna()"
   ]
  },
  {
   "cell_type": "code",
   "execution_count": 164,
   "metadata": {},
   "outputs": [
    {
     "data": {
      "text/plain": [
       "(2908322, 43)"
      ]
     },
     "execution_count": 164,
     "metadata": {},
     "output_type": "execute_result"
    }
   ],
   "source": [
    "df_clean.shape"
   ]
  },
  {
   "cell_type": "markdown",
   "metadata": {},
   "source": [
    "#### 2) Feature engineering"
   ]
  },
  {
   "cell_type": "code",
   "execution_count": 166,
   "metadata": {},
   "outputs": [],
   "source": [
    "# Convert Start_Time and End_Time to datetypes\n",
    "df_clean['Start_Time'] = pd.to_datetime(df_clean['Start_Time'])\n",
    "df_clean['End_Time'] = pd.to_datetime(df_clean['End_Time'])\n",
    "df_clean['duration']=round((df_clean['End_Time']-df_clean['Start_Time'])/np.timedelta64(1,'m'))\n",
    "df_clean=df_clean[df_clean.duration>0]\n",
    "\n",
    "# Extract year, month, day, hour and weekday\n",
    "df_clean['Year']=df_clean['Start_Time'].dt.year\n",
    "df_clean['Month']=df_clean['Start_Time'].dt.strftime('%b')\n",
    "df_clean['Day']=df_clean['Start_Time'].dt.day\n",
    "df_clean['Hour']=df_clean['Start_Time'].dt.hour\n",
    "df_clean['Weekday']=df_clean['Start_Time'].dt.strftime('%a')"
   ]
  },
  {
   "cell_type": "markdown",
   "metadata": {},
   "source": [
    "#### 3) Delete Outlier"
   ]
  },
  {
   "cell_type": "code",
   "execution_count": 167,
   "metadata": {},
   "outputs": [],
   "source": [
    "#Outlier\n",
    "lower=df_clean.duration.mean()-3*df_clean.duration.std()\n",
    "upper=df_clean.duration.mean()+3*df_clean.duration.std()\n",
    "df_clean=df_clean[(df_clean.duration>lower) & (df_clean.duration<upper)]"
   ]
  },
  {
   "cell_type": "code",
   "execution_count": 168,
   "metadata": {},
   "outputs": [],
   "source": [
    "# Out put data for visualization\n",
    "df_clean.to_csv(\"Clean_data.csv\", index=False )"
   ]
  },
  {
   "cell_type": "code",
   "execution_count": null,
   "metadata": {},
   "outputs": [],
   "source": [
    "# #Out_put a shorter version\n",
    "# list_=[\"Severity\",\"Start_Lat\",\"Start_Lng\", \"City\", \n",
    "# \"County\", \"State\", \"Zipcode\", \"Timezone\", \"duration\", \n",
    "#        \"Year\", \"Month\",\"Day\",\"Hour\", \"Weekday\"]\n",
    "# df_clean[list_].to_csv(\"crop_clean_data.csv\",index=False)"
   ]
  },
  {
   "cell_type": "markdown",
   "metadata": {},
   "source": [
    "# III) Machine Learning"
   ]
  },
  {
   "cell_type": "code",
   "execution_count": 361,
   "metadata": {},
   "outputs": [
    {
     "data": {
      "text/plain": [
       "(291294, 49)"
      ]
     },
     "execution_count": 361,
     "metadata": {},
     "output_type": "execute_result"
    }
   ],
   "source": [
    "#Only select TX\n",
    "df_TX=df_clean[df_clean.State=='TX']\n",
    "df_TX.shape"
   ]
  },
  {
   "cell_type": "code",
   "execution_count": 363,
   "metadata": {},
   "outputs": [],
   "source": [
    "#Drop feature that is too hard to process\n",
    "df_TX=df_TX.drop(['ID','Source','Description','Zipcode',\n",
    "             'Airport_Code','Street','State', 'Country'],axis=1)"
   ]
  },
  {
   "cell_type": "code",
   "execution_count": 364,
   "metadata": {},
   "outputs": [
    {
     "data": {
      "text/html": [
       "<div>\n",
       "<style scoped>\n",
       "    .dataframe tbody tr th:only-of-type {\n",
       "        vertical-align: middle;\n",
       "    }\n",
       "\n",
       "    .dataframe tbody tr th {\n",
       "        vertical-align: top;\n",
       "    }\n",
       "\n",
       "    .dataframe thead th {\n",
       "        text-align: right;\n",
       "    }\n",
       "</style>\n",
       "<table border=\"1\" class=\"dataframe\">\n",
       "  <thead>\n",
       "    <tr style=\"text-align: right;\">\n",
       "      <th></th>\n",
       "      <th>TMC</th>\n",
       "      <th>Severity</th>\n",
       "      <th>Start_Time</th>\n",
       "      <th>End_Time</th>\n",
       "      <th>Start_Lat</th>\n",
       "      <th>Start_Lng</th>\n",
       "      <th>Distance(mi)</th>\n",
       "      <th>Side</th>\n",
       "      <th>City</th>\n",
       "      <th>County</th>\n",
       "      <th>Timezone</th>\n",
       "      <th>Weather_Timestamp</th>\n",
       "      <th>Temperature(F)</th>\n",
       "      <th>Wind_Chill(F)</th>\n",
       "      <th>Humidity(%)</th>\n",
       "      <th>Visibility(mi)</th>\n",
       "      <th>Wind_Speed(mph)</th>\n",
       "      <th>Weather_Condition</th>\n",
       "      <th>Amenity</th>\n",
       "      <th>Bump</th>\n",
       "      <th>Crossing</th>\n",
       "      <th>Give_Way</th>\n",
       "      <th>Junction</th>\n",
       "      <th>No_Exit</th>\n",
       "      <th>Railway</th>\n",
       "      <th>Roundabout</th>\n",
       "      <th>Station</th>\n",
       "      <th>Stop</th>\n",
       "      <th>Traffic_Calming</th>\n",
       "      <th>Traffic_Signal</th>\n",
       "      <th>Turning_Loop</th>\n",
       "      <th>Sunrise_Sunset</th>\n",
       "      <th>Civil_Twilight</th>\n",
       "      <th>Nautical_Twilight</th>\n",
       "      <th>Astronomical_Twilight</th>\n",
       "      <th>duration</th>\n",
       "      <th>Year</th>\n",
       "      <th>Month</th>\n",
       "      <th>Day</th>\n",
       "      <th>Hour</th>\n",
       "      <th>Weekday</th>\n",
       "    </tr>\n",
       "  </thead>\n",
       "  <tbody>\n",
       "    <tr>\n",
       "      <th>261007</th>\n",
       "      <td>201.0</td>\n",
       "      <td>2</td>\n",
       "      <td>2016-11-30 16:03:54</td>\n",
       "      <td>2016-11-30 17:20:00</td>\n",
       "      <td>30.336502</td>\n",
       "      <td>-97.755646</td>\n",
       "      <td>0.01</td>\n",
       "      <td>R</td>\n",
       "      <td>Austin</td>\n",
       "      <td>Travis</td>\n",
       "      <td>US/Central</td>\n",
       "      <td>2016-11-30 15:51:00</td>\n",
       "      <td>66.0</td>\n",
       "      <td>51.326849</td>\n",
       "      <td>24.0</td>\n",
       "      <td>10.0</td>\n",
       "      <td>5.8</td>\n",
       "      <td>Clear</td>\n",
       "      <td>False</td>\n",
       "      <td>False</td>\n",
       "      <td>False</td>\n",
       "      <td>False</td>\n",
       "      <td>False</td>\n",
       "      <td>False</td>\n",
       "      <td>False</td>\n",
       "      <td>False</td>\n",
       "      <td>False</td>\n",
       "      <td>False</td>\n",
       "      <td>False</td>\n",
       "      <td>False</td>\n",
       "      <td>False</td>\n",
       "      <td>Day</td>\n",
       "      <td>Day</td>\n",
       "      <td>Day</td>\n",
       "      <td>Day</td>\n",
       "      <td>76.0</td>\n",
       "      <td>2016</td>\n",
       "      <td>Nov</td>\n",
       "      <td>30</td>\n",
       "      <td>16</td>\n",
       "      <td>Wed</td>\n",
       "    </tr>\n",
       "  </tbody>\n",
       "</table>\n",
       "</div>"
      ],
      "text/plain": [
       "          TMC  Severity          Start_Time            End_Time  Start_Lat  \\\n",
       "261007  201.0         2 2016-11-30 16:03:54 2016-11-30 17:20:00  30.336502   \n",
       "\n",
       "        Start_Lng  Distance(mi) Side    City  County    Timezone  \\\n",
       "261007 -97.755646          0.01    R  Austin  Travis  US/Central   \n",
       "\n",
       "          Weather_Timestamp  Temperature(F)  Wind_Chill(F)  Humidity(%)  \\\n",
       "261007  2016-11-30 15:51:00            66.0      51.326849         24.0   \n",
       "\n",
       "        Visibility(mi)  Wind_Speed(mph) Weather_Condition  Amenity   Bump  \\\n",
       "261007            10.0              5.8             Clear    False  False   \n",
       "\n",
       "        Crossing  Give_Way  Junction  No_Exit  Railway  Roundabout  Station  \\\n",
       "261007     False     False     False    False    False       False    False   \n",
       "\n",
       "         Stop  Traffic_Calming  Traffic_Signal  Turning_Loop Sunrise_Sunset  \\\n",
       "261007  False            False           False         False            Day   \n",
       "\n",
       "       Civil_Twilight Nautical_Twilight Astronomical_Twilight  duration  Year  \\\n",
       "261007            Day               Day                   Day      76.0  2016   \n",
       "\n",
       "       Month  Day  Hour Weekday  \n",
       "261007   Nov   30    16     Wed  "
      ]
     },
     "execution_count": 364,
     "metadata": {},
     "output_type": "execute_result"
    }
   ],
   "source": [
    "df_TX.head(1)"
   ]
  },
  {
   "cell_type": "markdown",
   "metadata": {},
   "source": [
    "#### 1) Encode columns"
   ]
  },
  {
   "cell_type": "code",
   "execution_count": 365,
   "metadata": {},
   "outputs": [],
   "source": [
    "from category_encoders import BinaryEncoder"
   ]
  },
  {
   "cell_type": "code",
   "execution_count": 366,
   "metadata": {},
   "outputs": [],
   "source": [
    "#Convert T anf F to 0 and 1\n",
    "temp=['Amenity','Bump','Crossing','Give_Way','Junction','No_Exit','Railway',\n",
    "  'Roundabout','Station','Stop','Traffic_Calming','Traffic_Signal','Turning_Loop']\n",
    "df_TX[temp]=df_TX[temp].astype(int)"
   ]
  },
  {
   "cell_type": "code",
   "execution_count": 367,
   "metadata": {},
   "outputs": [],
   "source": [
    "#Same as above \n",
    "temp=['Sunrise_Sunset','Civil_Twilight','Nautical_Twilight','Astronomical_Twilight']\n",
    "for i in temp:\n",
    "    df_TX[i]=df_TX[i].apply(lambda x: 1 if x=='Day' else 0)"
   ]
  },
  {
   "cell_type": "code",
   "execution_count": 368,
   "metadata": {},
   "outputs": [],
   "source": [
    "#One Hot encoding\n",
    "temp=['Side','Timezone','Month','Weekday']\n",
    "df_temp=pd.get_dummies(df_TX[temp])\n",
    "df_TX=df_TX.drop(temp,axis=1)\n",
    "df_TX=pd.concat([df_TX,df_temp],axis=1)"
   ]
  },
  {
   "cell_type": "code",
   "execution_count": 369,
   "metadata": {},
   "outputs": [],
   "source": [
    "#Binary encoding high cardinality\n",
    "temp=['City','County','Weather_Condition']\n",
    "\n",
    "be=BinaryEncoder(cols=temp)\n",
    "newdata=be.fit_transform(df_TX[temp])\n",
    "\n",
    "df_TX=pd.concat([df_TX,newdata],axis=1)"
   ]
  },
  {
   "cell_type": "code",
   "execution_count": 370,
   "metadata": {},
   "outputs": [],
   "source": [
    "df_TX=df_TX.drop(['City','County','Weather_Condition',\n",
    "                  'Weather_Timestamp','Start_Time','End_Time'],axis=1)"
   ]
  },
  {
   "cell_type": "markdown",
   "metadata": {},
   "source": [
    "#### 2) Feature Importance"
   ]
  },
  {
   "cell_type": "code",
   "execution_count": 371,
   "metadata": {},
   "outputs": [],
   "source": [
    "from sklearn.ensemble import RandomForestClassifier"
   ]
  },
  {
   "cell_type": "code",
   "execution_count": 372,
   "metadata": {},
   "outputs": [],
   "source": [
    "X=df_TX.drop(['Severity'],axis=1)\n",
    "y=df_TX['Severity']"
   ]
  },
  {
   "cell_type": "code",
   "execution_count": 373,
   "metadata": {},
   "outputs": [],
   "source": [
    "clf = RandomForestClassifier()\n",
    "clf.fit(X, y)\n",
    "\n",
    "list_feature=[]\n",
    "for feature_score in zip(X.columns, clf.feature_importances_):\n",
    "    list_feature.append(feature_score)\n",
    "list_feature.sort(key = lambda x: x[1], reverse=True) "
   ]
  },
  {
   "cell_type": "code",
   "execution_count": 374,
   "metadata": {},
   "outputs": [
    {
     "data": {
      "text/plain": [
       "[('Start_Lng', 0.11461272717174958),\n",
       " ('Start_Lat', 0.1143808496769118),\n",
       " ('TMC', 0.10199390653997026),\n",
       " ('Humidity(%)', 0.04635075381362031),\n",
       " ('Temperature(F)', 0.04612078329453929),\n",
       " ('duration', 0.04549782297574293)]"
      ]
     },
     "execution_count": 374,
     "metadata": {},
     "output_type": "execute_result"
    }
   ],
   "source": [
    "list_feature[:6]"
   ]
  },
  {
   "cell_type": "code",
   "execution_count": 375,
   "metadata": {},
   "outputs": [
    {
     "data": {
      "image/png": "[encoded data removed]",
      "text/plain": [
       "<Figure size 720x360 with 1 Axes>"
      ]
     },
     "metadata": {},
     "output_type": "display_data"
    }
   ],
   "source": [
    "objects = [i[0] for i in list_feature[:6]]\n",
    "y_pos = np.arange(len(objects))\n",
    "performance = [i[1] for i in list_feature[:6]]\n",
    "\n",
    "plt.figure(figsize=(10,5))\n",
    "plt.bar(y_pos, performance, align='center', alpha=0.5)\n",
    "plt.xticks(y_pos, objects)\n",
    "plt.ylabel('Score')\n",
    "plt.title('Feature Importance')\n",
    "\n",
    "plt.show()"
   ]
  },
  {
   "cell_type": "markdown",
   "metadata": {},
   "source": [
    "#### 3) Validation accuracy"
   ]
  },
  {
   "cell_type": "code",
   "execution_count": 376,
   "metadata": {},
   "outputs": [],
   "source": [
    "from sklearn.model_selection import KFold, cross_val_score\n",
    "from sklearn.metrics import accuracy_score\n",
    "\n",
    "from sklearn.linear_model import LogisticRegression\n",
    "from sklearn.ensemble import RandomForestClassifier\n",
    "from xgboost import XGBClassifier\n",
    "from sklearn.model_selection import KFold"
   ]
  },
  {
   "cell_type": "code",
   "execution_count": 377,
   "metadata": {},
   "outputs": [],
   "source": [
    "X=df_TX.drop(['Severity'],axis=1)\n",
    "y=df_TX['Severity']"
   ]
  },
  {
   "cell_type": "code",
   "execution_count": 378,
   "metadata": {},
   "outputs": [],
   "source": [
    "# from sklearn.model_selection import train_test_split\n",
    "# X_train,X_test,y_train,y_test=train_test_split(X,y,random_state=10)"
   ]
  },
  {
   "cell_type": "code",
   "execution_count": 379,
   "metadata": {},
   "outputs": [],
   "source": [
    "#Logistic regression\n",
    "start=time.time()\n",
    "lr=LogisticRegression()\n",
    "score_lr=cross_val_score(lr,X,y,cv=3)\n",
    "duration_lr=round(time.time()-start,2)"
   ]
  },
  {
   "cell_type": "code",
   "execution_count": 380,
   "metadata": {},
   "outputs": [],
   "source": [
    "# Random forest\n",
    "start=time.time()\n",
    "clf = RandomForestClassifier()\n",
    "score_rf=cross_val_score(lr,X,y,cv=3)\n",
    "duration_rf=round(time.time()-start,2)"
   ]
  },
  {
   "cell_type": "code",
   "execution_count": 381,
   "metadata": {},
   "outputs": [],
   "source": [
    "# Score XGB Classifier\n",
    "start=time.time()\n",
    "XGB = XGBClassifier()\n",
    "score_xgb=cross_val_score(XGB,X,y,cv=3)\n",
    "duration_xgb=round(time.time()-start,2)"
   ]
  },
  {
   "cell_type": "code",
   "execution_count": 382,
   "metadata": {},
   "outputs": [
    {
     "data": {
      "text/plain": [
       "830.35"
      ]
     },
     "execution_count": 382,
     "metadata": {},
     "output_type": "execute_result"
    }
   ],
   "source": [
    "duration_xgb"
   ]
  },
  {
   "cell_type": "code",
   "execution_count": 383,
   "metadata": {},
   "outputs": [
    {
     "data": {
      "text/plain": [
       "(0.07971908574835238, 0.07971908574835238, 0.10571289133369309)"
      ]
     },
     "execution_count": 383,
     "metadata": {},
     "output_type": "execute_result"
    }
   ],
   "source": [
    "(score_lr.std(), score_rf.std(), score_xgb.std())"
   ]
  },
  {
   "cell_type": "code",
   "execution_count": 384,
   "metadata": {},
   "outputs": [
    {
     "data": {
      "text/plain": [
       "(70.79, 59.98, 830.35)"
      ]
     },
     "execution_count": 384,
     "metadata": {},
     "output_type": "execute_result"
    }
   ],
   "source": [
    "(score_lr.mean(), score_rf.mean(), score_xgb.mean())\n",
    "(score_lr.std(), score_rf.std(), score_xgb.std())\n",
    "(duration_lr,duration_rf,duration_xgb)"
   ]
  },
  {
   "cell_type": "code",
   "execution_count": 387,
   "metadata": {},
   "outputs": [
    {
     "data": {
      "text/plain": [
       "(0.6603253651277715, 0.6603253651277715, 0.6676407634056871)"
      ]
     },
     "execution_count": 387,
     "metadata": {},
     "output_type": "execute_result"
    }
   ],
   "source": [
    "(score_lr.mean(), score_rf.mean(), score_xgb.mean())"
   ]
  },
  {
   "cell_type": "code",
   "execution_count": 385,
   "metadata": {},
   "outputs": [
    {
     "data": {
      "text/plain": [
       "<Figure size 1440x1440 with 0 Axes>"
      ]
     },
     "metadata": {},
     "output_type": "display_data"
    },
    {
     "data": {
      "image/png": "[encoded data removed]",
      "text/plain": [
       "<Figure size 432x288 with 2 Axes>"
      ]
     },
     "metadata": {},
     "output_type": "display_data"
    }
   ],
   "source": [
    "plt.figure(figsize=(20,20))\n",
    "width = 0.7 # width of a bar\n",
    "\n",
    "m1_t = pd.DataFrame({\n",
    " 'Accuracy' : (score_lr.mean(), score_rf.mean(), score_xgb.mean()),\n",
    " 'Standard Deviation' : (score_lr.std(), score_rf.std(), score_xgb.std()),\n",
    " 'duration' : (duration_lr,duration_rf,duration_xgb),})\n",
    "\n",
    "\n",
    "\n",
    "m1_t[['Accuracy','Standard Deviation']].plot(kind='bar', width = width)\n",
    "m1_t['Standard Deviation'].plot(secondary_y=True,color=\"yellow\")\n",
    "\n",
    "ax = plt.gca()\n",
    "plt.xlim([-width, len(m1_t['duration'])-width])\n",
    "ax.set_xticklabels(('LR', 'RF', 'XGB'))\n",
    "plt.title('Comparison of Different Models')\n",
    "\n",
    "plt.show()"
   ]
  },
  {
   "cell_type": "code",
   "execution_count": 388,
   "metadata": {},
   "outputs": [
    {
     "data": {
      "text/plain": [
       "array([3, 2, 1, 4])"
      ]
     },
     "execution_count": 388,
     "metadata": {},
     "output_type": "execute_result"
    }
   ],
   "source": [
    "df_clean.Severity.unique()"
   ]
  },
  {
   "cell_type": "code",
   "execution_count": null,
   "metadata": {},
   "outputs": [],
   "source": []
  }
 ],
 "metadata": {
  "kernelspec": {
   "display_name": "Python 3",
   "language": "python",
   "name": "python3"
  },
  "language_info": {
   "codemirror_mode": {
    "name": "ipython",
    "version": 3
   },
   "file_extension": ".py",
   "mimetype": "text/x-python",
   "name": "python",
   "nbconvert_exporter": "python",
   "pygments_lexer": "ipython3",
   "version": "3.7.3"
  }
 },
 "nbformat": 4,
 "nbformat_minor": 2
}
